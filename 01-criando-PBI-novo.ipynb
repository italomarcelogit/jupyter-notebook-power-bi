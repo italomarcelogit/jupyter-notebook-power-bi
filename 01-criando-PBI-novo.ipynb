{
 "cells": [
  {
   "cell_type": "code",
   "execution_count": 1,
   "metadata": {},
   "outputs": [],
   "source": [
    "from powerbiclient import QuickVisualize, get_dataset_config\n",
    "from powerbiclient.authentication import DeviceCodeLoginAuthentication\n",
    "import pandas as pd\n",
    "from datetime import datetime"
   ]
  },
  {
   "cell_type": "code",
   "execution_count": 2,
   "metadata": {},
   "outputs": [
    {
     "data": {
      "text/html": [
       "<div>\n",
       "<style scoped>\n",
       "    .dataframe tbody tr th:only-of-type {\n",
       "        vertical-align: middle;\n",
       "    }\n",
       "\n",
       "    .dataframe tbody tr th {\n",
       "        vertical-align: top;\n",
       "    }\n",
       "\n",
       "    .dataframe thead th {\n",
       "        text-align: right;\n",
       "    }\n",
       "</style>\n",
       "<table border=\"1\" class=\"dataframe\">\n",
       "  <thead>\n",
       "    <tr style=\"text-align: right;\">\n",
       "      <th></th>\n",
       "      <th>EMPRESA</th>\n",
       "      <th>EXECUTIVO</th>\n",
       "      <th>PERIODO</th>\n",
       "      <th>P</th>\n",
       "      <th>M</th>\n",
       "      <th>G</th>\n",
       "      <th>META</th>\n",
       "      <th>REALIZADO</th>\n",
       "      <th>TM</th>\n",
       "      <th>TC</th>\n",
       "      <th>OBJETIVO_REALIZADO</th>\n",
       "    </tr>\n",
       "  </thead>\n",
       "  <tbody>\n",
       "    <tr>\n",
       "      <th>0</th>\n",
       "      <td>1</td>\n",
       "      <td>Clara</td>\n",
       "      <td>2018-01-01</td>\n",
       "      <td>12</td>\n",
       "      <td>2</td>\n",
       "      <td>0</td>\n",
       "      <td>100000</td>\n",
       "      <td>102000.0</td>\n",
       "      <td>9286</td>\n",
       "      <td>14</td>\n",
       "      <td>1</td>\n",
       "    </tr>\n",
       "    <tr>\n",
       "      <th>1</th>\n",
       "      <td>1</td>\n",
       "      <td>Bruno</td>\n",
       "      <td>2018-01-01</td>\n",
       "      <td>18</td>\n",
       "      <td>2</td>\n",
       "      <td>0</td>\n",
       "      <td>100000</td>\n",
       "      <td>100000.0</td>\n",
       "      <td>4100</td>\n",
       "      <td>20</td>\n",
       "      <td>1</td>\n",
       "    </tr>\n",
       "  </tbody>\n",
       "</table>\n",
       "</div>"
      ],
      "text/plain": [
       "   EMPRESA EXECUTIVO     PERIODO   P  M  G    META  REALIZADO    TM  TC  \\\n",
       "0        1     Clara  2018-01-01  12  2  0  100000   102000.0  9286  14   \n",
       "1        1     Bruno  2018-01-01  18  2  0  100000   100000.0  4100  20   \n",
       "\n",
       "   OBJETIVO_REALIZADO  \n",
       "0                   1  \n",
       "1                   1  "
      ]
     },
     "metadata": {},
     "output_type": "display_data"
    },
    {
     "name": "stdout",
     "output_type": "stream",
     "text": [
      "<class 'pandas.core.frame.DataFrame'>\n",
      "RangeIndex: 216 entries, 0 to 215\n",
      "Data columns (total 11 columns):\n",
      " #   Column              Non-Null Count  Dtype  \n",
      "---  ------              --------------  -----  \n",
      " 0   EMPRESA             216 non-null    int64  \n",
      " 1   EXECUTIVO           216 non-null    object \n",
      " 2   PERIODO             216 non-null    object \n",
      " 3   P                   216 non-null    int64  \n",
      " 4   M                   216 non-null    int64  \n",
      " 5   G                   216 non-null    int64  \n",
      " 6   META                216 non-null    int64  \n",
      " 7   REALIZADO           216 non-null    float64\n",
      " 8   TM                  216 non-null    int64  \n",
      " 9   TC                  216 non-null    int64  \n",
      " 10  OBJETIVO_REALIZADO  216 non-null    int64  \n",
      "dtypes: float64(1), int64(8), object(2)\n",
      "memory usage: 18.7+ KB\n"
     ]
    }
   ],
   "source": [
    "# fazer a leitura dos dados\n",
    "df = pd.read_csv('dataset_vendas_aleatorio.csv')\n",
    "display(df.head(2))\n",
    "df.info()"
   ]
  },
  {
   "cell_type": "code",
   "execution_count": 3,
   "metadata": {},
   "outputs": [
    {
     "data": {
      "text/html": [
       "<div>\n",
       "<style scoped>\n",
       "    .dataframe tbody tr th:only-of-type {\n",
       "        vertical-align: middle;\n",
       "    }\n",
       "\n",
       "    .dataframe tbody tr th {\n",
       "        vertical-align: top;\n",
       "    }\n",
       "\n",
       "    .dataframe thead th {\n",
       "        text-align: right;\n",
       "    }\n",
       "</style>\n",
       "<table border=\"1\" class=\"dataframe\">\n",
       "  <thead>\n",
       "    <tr style=\"text-align: right;\">\n",
       "      <th></th>\n",
       "      <th>EXECUTIVO</th>\n",
       "      <th>PERIODO</th>\n",
       "      <th>P</th>\n",
       "      <th>M</th>\n",
       "      <th>G</th>\n",
       "      <th>META</th>\n",
       "      <th>REALIZADO</th>\n",
       "      <th>TM</th>\n",
       "      <th>OBJETIVO_REALIZADO</th>\n",
       "    </tr>\n",
       "  </thead>\n",
       "  <tbody>\n",
       "    <tr>\n",
       "      <th>0</th>\n",
       "      <td>Clara</td>\n",
       "      <td>2018-01-01</td>\n",
       "      <td>12</td>\n",
       "      <td>2</td>\n",
       "      <td>0</td>\n",
       "      <td>100000</td>\n",
       "      <td>102000.0</td>\n",
       "      <td>9286</td>\n",
       "      <td>1</td>\n",
       "    </tr>\n",
       "    <tr>\n",
       "      <th>2</th>\n",
       "      <td>Simone</td>\n",
       "      <td>2018-01-01</td>\n",
       "      <td>6</td>\n",
       "      <td>1</td>\n",
       "      <td>1</td>\n",
       "      <td>70000</td>\n",
       "      <td>74200.0</td>\n",
       "      <td>11250</td>\n",
       "      <td>1</td>\n",
       "    </tr>\n",
       "  </tbody>\n",
       "</table>\n",
       "</div>"
      ],
      "text/plain": [
       "  EXECUTIVO    PERIODO   P  M  G    META  REALIZADO     TM  OBJETIVO_REALIZADO\n",
       "0     Clara 2018-01-01  12  2  0  100000   102000.0   9286                   1\n",
       "2    Simone 2018-01-01   6  1  1   70000    74200.0  11250                   1"
      ]
     },
     "metadata": {},
     "output_type": "display_data"
    },
    {
     "name": "stdout",
     "output_type": "stream",
     "text": [
      "<class 'pandas.core.frame.DataFrame'>\n",
      "Index: 158 entries, 0 to 215\n",
      "Data columns (total 9 columns):\n",
      " #   Column              Non-Null Count  Dtype         \n",
      "---  ------              --------------  -----         \n",
      " 0   EXECUTIVO           158 non-null    object        \n",
      " 1   PERIODO             158 non-null    datetime64[ns]\n",
      " 2   P                   158 non-null    int64         \n",
      " 3   M                   158 non-null    int64         \n",
      " 4   G                   158 non-null    int64         \n",
      " 5   META                158 non-null    int64         \n",
      " 6   REALIZADO           158 non-null    float64       \n",
      " 7   TM                  158 non-null    int64         \n",
      " 8   OBJETIVO_REALIZADO  158 non-null    int64         \n",
      "dtypes: datetime64[ns](1), float64(1), int64(6), object(1)\n",
      "memory usage: 12.3+ KB\n"
     ]
    }
   ],
   "source": [
    "# re-gerando o dataframe com as transformações e tratamentos abaixo:\n",
    "\n",
    "# - sem as colunas EMPRESA e TC\n",
    "df = df.drop(['EMPRESA', 'TC'], axis=1)\n",
    "\n",
    "# - convertendo a coluna PERIODO para datetime\n",
    "df['PERIODO'] = df['PERIODO'].apply(lambda x: datetime.strptime(x, '%Y-%m-%d'))\n",
    "\n",
    "# - somente os dados com TM (tícket médio) > maior que 5k\n",
    "df = df.loc[df['TM'] > 5000]\n",
    "df['PERIODO'] = pd.to_datetime(df['PERIODO'], format='%Y%m%d')\n",
    "display(df.head(2))\n",
    "df.info()"
   ]
  },
  {
   "cell_type": "code",
   "execution_count": 4,
   "metadata": {},
   "outputs": [
    {
     "name": "stdout",
     "output_type": "stream",
     "text": [
      "Performing device flow authentication. Please follow the instructions below.\n",
      "To sign in, use a web browser to open the page https://microsoft.com/devicelogin and enter the code FKL8VQMDZ to authenticate.\n",
      "\n",
      "Device flow authentication successfully completed.\n",
      "You are now logged in .\n",
      "\n",
      "The result should be passed only to trusted code in your notebook.\n"
     ]
    }
   ],
   "source": [
    "# autenticação microsoft Power BI   \n",
    "device_auth = DeviceCodeLoginAuthentication()"
   ]
  },
  {
   "cell_type": "code",
   "execution_count": 5,
   "metadata": {},
   "outputs": [],
   "source": [
    "# gerar um report \n",
    "PBI_visualize = QuickVisualize(get_dataset_config(df), auth=device_auth)"
   ]
  },
  {
   "cell_type": "code",
   "execution_count": 13,
   "metadata": {},
   "outputs": [],
   "source": [
    "# configurar o tamanho do report\n",
    "# PBI_visualize.set_size(1920, 1080)"
   ]
  },
  {
   "cell_type": "code",
   "execution_count": 12,
   "metadata": {},
   "outputs": [
    {
     "data": {
      "application/vnd.jupyter.widget-view+json": {
       "model_id": "e25bc360547342c1a10c54267bb6ecd4",
       "version_major": 2,
       "version_minor": 0
      },
      "text/plain": [
       "QuickVisualize(container_height=1920.0, container_width=1080.0)"
      ]
     },
     "execution_count": 12,
     "metadata": {},
     "output_type": "execute_result"
    }
   ],
   "source": [
    "PBI_visualize"
   ]
  }
 ],
 "metadata": {
  "kernelspec": {
   "display_name": "venv",
   "language": "python",
   "name": "python3"
  },
  "language_info": {
   "codemirror_mode": {
    "name": "ipython",
    "version": 3
   },
   "file_extension": ".py",
   "mimetype": "text/x-python",
   "name": "python",
   "nbconvert_exporter": "python",
   "pygments_lexer": "ipython3",
   "version": "3.10.11"
  },
  "orig_nbformat": 4
 },
 "nbformat": 4,
 "nbformat_minor": 2
}
